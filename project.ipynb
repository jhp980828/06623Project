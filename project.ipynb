{
 "cells": [
  {
   "cell_type": "markdown",
   "metadata": {},
   "source": [
    "Before you turn this problem in, make sure everything runs as expected. First, **restart the kernel** (in the menubar, select Kernel$\\rightarrow$Restart) and then **run all cells** (in the menubar, select Cell$\\rightarrow$Run All).\n",
    "\n",
    "Make sure you fill in any place that says `YOUR CODE HERE` or \"YOUR ANSWER HERE\", as well as your name and collaborators below:\n",
    "\n"
   ]
  },
  {
   "cell_type": "code",
   "execution_count": 1,
   "metadata": {},
   "outputs": [],
   "source": [
    "NAME = \"Henry Park\"\n",
    "COLLABORATORS = \"\"\n",
    "\n"
   ]
  },
  {
   "cell_type": "markdown",
   "metadata": {},
   "source": [
    "## Final project\n",
    "\n",
    "\n",
    "\n",
    "\n",
    "\n",
    "\n",
    "\n",
    "\n",
    "\n"
   ]
  },
  {
   "cell_type": "markdown",
   "metadata": {},
   "source": [
    "## Project\n",
    "\n",
    "\n",
    "\n",
    "\n",
    "\n",
    "\n",
    "\n",
    "\n",
    "\n"
   ]
  },
  {
   "cell_type": "markdown",
   "metadata": {},
   "source": [
    "Your final project will be a PDF derived from a Jupyter notebook. Your notebook should read like a technical report, with sections to organize the contents, complete sentences, and paragraphs with interspersed code cells and results. The lecture notes are a reasonable model for what I am expecting from you. There is not a hard length; it should be appropriate for your topic. \n",
    "\n",
    "Your report will be graded in these areas.\n",
    "\n",
    "\n",
    "\n",
    "\n",
    "\n",
    "\n",
    "\n",
    "\n",
    "\n"
   ]
  },
  {
   "cell_type": "markdown",
   "metadata": {},
   "source": [
    "### Technical content\n",
    "\n",
    "\n",
    "\n",
    "\n",
    "\n",
    "\n",
    "\n",
    "\n",
    "\n"
   ]
  },
  {
   "cell_type": "markdown",
   "metadata": {},
   "source": [
    "You should explain what your code is doing, the code should follow the style and conventions used in the lecture notes. You should also explain what your results mean, and provide some context around them. For example, if you are reproducing some analysis, do your results agree? If not, why? If you are developing an algorithm how can you tell if it works? What are the benefits of it compared to others?\n",
    "\n",
    "Your work should be original. I do not want to see small derivatives of existing work, or copied examples from the internet. If you used existing works, you should take care to cite them (with a URL to access them).\n",
    "\n",
    "\n",
    "\n",
    "\n",
    "\n",
    "\n",
    "\n",
    "\n",
    "\n"
   ]
  },
  {
   "cell_type": "markdown",
   "metadata": {},
   "source": [
    "### Presentation\n",
    "\n",
    "\n",
    "\n",
    "\n",
    "\n",
    "\n",
    "\n",
    "\n",
    "\n"
   ]
  },
  {
   "cell_type": "markdown",
   "metadata": {},
   "source": [
    "I expect full sentences and paragraphs, with limited typos and grammatical mistakes. If you have used external content for something you should have reference (a URL is fine) to indicate that.\n",
    "\n",
    "The writing should be suitable for a non-expert to read, especially consider what a job recruiter would think about it. Would they be interested in hiring you after reading it? Would a first-year MS student understand what you have written and learn from it.\n",
    "\n",
    "\n",
    "\n",
    "\n",
    "\n",
    "\n",
    "\n"
   ]
  },
  {
   "cell_type": "markdown",
   "metadata": {},
   "source": [
    "# Introduction\n",
    "\n",
    "\n",
    "\n",
    "\n",
    "\n",
    "\n",
    "\n",
    "\n",
    "\n"
   ]
  },
  {
   "cell_type": "markdown",
   "metadata": {},
   "source": [
    "### Monte Carlo Estimation\n",
    "\n",
    "Monte Carlo (MC) method utilizes theory of large numbers and iterative random sampling in solving wide range of problems. Its applications include testing wireless network with simulated users in telecommunication, tracing the light path to render 3D graphics in computer graphics, and simulating the effect of pollutants in environmental engineering. It is also utilizable in fields of artificial intelligence like model-free reinforcement learning.\n",
    "\n",
    "The law of large numbers (LLN) states that the average of the results from a large number of trials should converge to the expected value:\n",
    "\n",
    "**Law of Large Numbers**\n",
    "\n",
    "Let $X_i$ be independent identically-distributed (i.i.d) random variables.\n",
    "\n",
    "For $i = 1,...,N,$ where $N$ is the number of trials, \n",
    "\\begin{equation}\n",
    "E(X_i) = \\mu \\\\\n",
    "Var (X_i) = \\sigma^2 \\\\\n",
    "\\bar{X}_n = \\lim_{N \\rightarrow \\infty} \\cfrac{\\sum_{i=1}^{N}X_i}{N}\n",
    "\\end{equation}\n",
    "\n",
    "**Quick Example: Fair die**\n",
    "\n",
    "Let $P(X_i)$ be the probability of $i$ showing up in a fair die throw.\n",
    "\n",
    "Throwing a fair die enough number of times ($N$ times) would give $P(1) \\approx P(2) \\approx ...\\approx P(6) \\approx \\cfrac{1}{6},$ and eventually converge to exact probabilities of $\\cfrac{1}{6}$ when $N$ increases to $\\infty$.\n",
    "\n",
    "For example, probability of one showing up in a throw can be expressed as\n",
    "\\begin{equation}\n",
    "\\bar{X}_n = \\lim_{N \\rightarrow \\infty} \\cfrac{\\sum_{i=1}^{N}X_i}{N} \\\\\n",
    "\\cfrac{1}{6} = \\cfrac{\\text{Number of times one showed up}}{\\text{Total number of throws}}\n",
    "\\end{equation}\n",
    "\n"
   ]
  },
  {
   "cell_type": "code",
   "execution_count": 2,
   "metadata": {},
   "outputs": [],
   "source": [
    "# import libraries\n",
    "import numpy as np\n",
    "import matplotlib.pyplot as plt\n",
    "import random\n",
    "import time"
   ]
  },
  {
   "cell_type": "markdown",
   "metadata": {},
   "source": [
    "To simulate the dice throw in Python, the **dice_throw** function was defined. The function outputs a random integer between 1 and 6.\n",
    "\n",
    "Try several times to see different results from dice throw."
   ]
  },
  {
   "cell_type": "code",
   "execution_count": 3,
   "metadata": {},
   "outputs": [
    {
     "data": {
      "text/plain": [
       "3"
      ]
     },
     "execution_count": 3,
     "metadata": {},
     "output_type": "execute_result"
    }
   ],
   "source": [
    "def dice_throw():\n",
    "    return random.randint (1,6)\n",
    "\n",
    "# example of dice_throw function\n",
    "dice_throw ()"
   ]
  },
  {
   "cell_type": "markdown",
   "metadata": {},
   "source": [
    "In the cell below, the trial is done $N=10,000$ times and the outcomes are stored to calculate the probabilities of each outcome ($1,2,...,6$). The list $\\text{occurrences}$ shows how many times each outcome had occurred after $N$ throws. Next, the probabilities are calculated from the occurrences and stored to the a list named $\\text{probabilities}$. A $\\text{runtime}$ function was also defined to time the Monte Carlo simulation as it can be computationally expensive when number of trials are increased."
   ]
  },
  {
   "cell_type": "code",
   "execution_count": 4,
   "metadata": {},
   "outputs": [],
   "source": [
    "def runtime (start):\n",
    "    now = time.time()\n",
    "    taken = now - start\n",
    "    print (f\"Runtime: {taken:1.4f} s\")"
   ]
  },
  {
   "cell_type": "code",
   "execution_count": 5,
   "metadata": {},
   "outputs": [
    {
     "name": "stdout",
     "output_type": "stream",
     "text": [
      "Runtime: 1.8833 s\n"
     ]
    }
   ],
   "source": [
    "# seed\n",
    "random.seed (1)\n",
    "start = time.time() # for runtime function\n",
    "\n",
    "N = 10000 # number of trials\n",
    "outcomes = []\n",
    "probabilities = []\n",
    "\n",
    "for i in range (N):\n",
    "    outcome = dice_throw()\n",
    "    outcomes.append (outcome) # outcome in [1,2,3,4,5,6]\n",
    "    \n",
    "    # number of occurrences of each outcome\n",
    "    occurrences = [outcomes.count(j) for j in range (1,7)]\n",
    "    occurrences = np.array (occurrences)\n",
    "    \n",
    "    # probabilities are updated each loop\n",
    "    probabilities.append (list(occurrences/(i+1)))\n",
    "    \n",
    "probabilities=np.array(probabilities)\n",
    "runtime(start)"
   ]
  },
  {
   "cell_type": "markdown",
   "metadata": {},
   "source": [
    "The first element in the list $\\text{probabilities}$ refers to the probability after the first dice throw, and the last element is the final probabilities after $N$ throws. In other words, elements with index $(i-1)$ has the probabilities after $i$th throw. See the printed statements in the code cell below."
   ]
  },
  {
   "cell_type": "code",
   "execution_count": 6,
   "metadata": {},
   "outputs": [
    {
     "name": "stdout",
     "output_type": "stream",
     "text": [
      "Probabilities after the first throw: [0. 1. 0. 0. 0. 0.]\n",
      "Probabilities after N throws: [0.1624 0.1699 0.1649 0.1686 0.1715 0.1627]\n",
      "Actual probability: 0.1667\n"
     ]
    }
   ],
   "source": [
    "# prob after a single throw\n",
    "print (f\"Probabilities after the first throw: {probabilities[0]}\")\n",
    "\n",
    "# prob after N throws\n",
    "print (f\"Probabilities after N throws: {probabilities[-1]}\")\n",
    "\n",
    "# analytical\n",
    "print (f\"Actual probability: {1/6:1.4f}\")"
   ]
  },
  {
   "cell_type": "markdown",
   "metadata": {},
   "source": [
    "**Probability after a single throw:** One of the probabilities equals $1.0$, and the rest are $0$ since there is only one outcome provided.\n",
    "\n",
    "**Probability after N throws:** All six probabilities converge to $\\approx \\frac{1}{6}$.\n",
    "\n",
    "The plot below shows the expected converging behavior from Monte Carlo simulation of dice throws. The black dotted horizontal line is the line where the probability equals $\\frac{1}{6}.$"
   ]
  },
  {
   "cell_type": "code",
   "execution_count": 7,
   "metadata": {},
   "outputs": [
    {
     "data": {
      "image/png": "[encoded data removed]",
      "text/plain": [
       "<Figure size 576x360 with 1 Axes>"
      ]
     },
     "metadata": {
      "needs_background": "light"
     },
     "output_type": "display_data"
    }
   ],
   "source": [
    "# plot probabilities for each outcome\n",
    "plt.figure (figsize=(8,5))\n",
    "plt.plot (probabilities)\n",
    "\n",
    "# horizontal line to show the known probability of 1/6\n",
    "plt.axhline (1/6, ls='--', lw=3, c='k', xmin=0.03, xmax=0.97)\n",
    "\n",
    "plt.legend ([\"P(1)\",\"P(2)\",\"P(3)\",\"P(4)\",\"P(5)\",\"P(6)\"], fontsize=14)\n",
    "plt.xlabel (\"Number of Throws\", fontsize=14)\n",
    "plt.ylabel (\"Probability\", fontsize=14)\n",
    "plt.title (\"Monte Carlo: Fair Die\", fontsize=20) ;"
   ]
  },
  {
   "cell_type": "markdown",
   "metadata": {},
   "source": [
    "# MC Numerical Integration"
   ]
  },
  {
   "cell_type": "markdown",
   "metadata": {},
   "source": [
    "Monte Carlo methods can also be used to numerically approximate definite integrals. For example, an integral $\\int_{0}^{\\pi} \\text{e}^{\\text{sin}(x)} dx$ does not have an easy analytical solution to its integral, but the integral can be calculated using numerical integration. In Monte Carlo integration, $x$ values are randomly selected to partition the function into $N+1$ pieces, then the Riemann sum of those partitions are calculated.\n",
    "\n",
    "$\\text{E}[f(x)] \\equiv \\text{Expected value of a function} f(x) \\text{, or mean}$\n",
    "\n",
    "$\\text{E}[f(x)] = \\frac{1}{b-a} \\int_{a}^{b} f(x) dx$\n",
    "\n",
    "$(b-a) \\cdot \\text{E}[f(x)] = \\int_{a}^{b} f(x) dx$\n",
    "\n",
    "For $N$ discrete samples,\n",
    "\n",
    "$(b-a) \\left[ \\frac{1}{N} \\sum_{i=1}^{N} f(i) \\right] \\approx \\int_{a}^{b} f(x) dx$"
   ]
  },
  {
   "cell_type": "markdown",
   "metadata": {},
   "source": [
    "In other words, \n",
    "\n",
    "\\begin{equation}\n",
    "(b-a) \\cdot \\text{MEAN}(f(x)) = \\int_{a}^{b} f(x) dx \\text{  as } N \\rightarrow \\infty\n",
    "\\end{equation}"
   ]
  },
  {
   "cell_type": "markdown",
   "metadata": {},
   "source": [
    "First, the function to integrate needs to be defined. The plot below shows the original function curve."
   ]
  },
  {
   "cell_type": "code",
   "execution_count": 8,
   "metadata": {},
   "outputs": [
    {
     "data": {
      "image/png": "[encoded data removed]",
      "text/plain": [
       "<Figure size 432x288 with 1 Axes>"
      ]
     },
     "metadata": {
      "needs_background": "light"
     },
     "output_type": "display_data"
    }
   ],
   "source": [
    "# function to integrate\n",
    "# No analytical solution\n",
    "def f(x):\n",
    "    return np.exp(np.sin(x))\n",
    "\n",
    "# limits of integration\n",
    "a = 0\n",
    "b = np.pi\n",
    "\n",
    "# original function plot\n",
    "x=np.linspace(-5, 5, 200)\n",
    "ylim = 1.1*f(x).max()\n",
    "\n",
    "plt.plot (x, f(x), \"indigo\")\n",
    "plt.xlim ([x.min(), x.max()])\n",
    "plt.ylim ([0, ylim])\n",
    "plt.xlabel (\"x\",fontsize=12)\n",
    "plt.ylabel (\"f(x)\",fontsize=12)\n",
    "plt.title (\"Graph of f(x)\",fontsize=14) ;"
   ]
  },
  {
   "cell_type": "markdown",
   "metadata": {},
   "source": [
    "The code below provides a visualization of partitions using $N$ random $x$'s.\n",
    "\n",
    "Uniformly distributed random numbers ($x$) taken from the range between the integration bounds are stored in an array. Then for each of those random $x$'s, bar plots with a height of $f(x)$ are generated to visualize the $N+1$ partitions and their function values were added to calculate the Riemann sum. For each example, number of trials ($N$), runtime, and value of the integral are printed out for comparison."
   ]
  },
  {
   "cell_type": "markdown",
   "metadata": {},
   "source": [
    "#### ex.) $N=5$"
   ]
  },
  {
   "cell_type": "code",
   "execution_count": 9,
   "metadata": {},
   "outputs": [
    {
     "name": "stdout",
     "output_type": "stream",
     "text": [
      "N = 5\n",
      "Value of the integral: 5.952\n",
      "Runtime: 0.0160 s\n"
     ]
    },
    {
     "data": {
      "image/png": "[encoded data removed]",
      "text/plain": [
       "<Figure size 432x288 with 1 Axes>"
      ]
     },
     "metadata": {
      "needs_background": "light"
     },
     "output_type": "display_data"
    }
   ],
   "source": [
    "# number of random simulations\n",
    "N = 5\n",
    "\n",
    "# choose N random values of x to partition the function\n",
    "random.seed(32)\n",
    "rand = [random.uniform(a,b) for i in range(N)]\n",
    "rand = np.array (rand)\n",
    "\n",
    "\n",
    "summation = 0.0 # cumulate all areas of each random x\n",
    "start = time.time()\n",
    "\n",
    "for i in range (N):\n",
    "    # Visualizing partitions\n",
    "    plt.bar (rand[i], height = f(rand[i]), width=0.1, color=\"royalblue\")\n",
    "    \n",
    "    # Calculating the riemann sum\n",
    "    summation += f(rand[i])\n",
    "\n",
    "print (f\"N = {N}\")\n",
    "    \n",
    "# E[f(x)] and integral F(x)\n",
    "mean = summation/N\n",
    "integral = (b-a)*mean\n",
    "print (f\"Value of the integral: {integral:1.3f}\")\n",
    "\n",
    "ylim = 1.1*f(x).max()\n",
    "plt.plot (x, f(x), \"indigo\")\n",
    "plt.xlim ([x.min(), x.max()])\n",
    "plt.ylim ([0, ylim])\n",
    "plt.xlabel (\"x\",fontsize=12)\n",
    "plt.ylabel (\"f(x)\",fontsize=12)\n",
    "plt.title (f\"N = {N}\",fontsize=16)\n",
    "runtime(start)"
   ]
  },
  {
   "cell_type": "markdown",
   "metadata": {},
   "source": [
    "#### ex.) $N=5000$"
   ]
  },
  {
   "cell_type": "code",
   "execution_count": 10,
   "metadata": {},
   "outputs": [
    {
     "name": "stdout",
     "output_type": "stream",
     "text": [
      "N = 5000\n",
      "Value of the integral: 6.181\n",
      "Runtime: 2.6985 s\n"
     ]
    },
    {
     "data": {
      "image/png": "[encoded data removed]",
      "text/plain": [
       "<Figure size 432x288 with 1 Axes>"
      ]
     },
     "metadata": {
      "needs_background": "light"
     },
     "output_type": "display_data"
    }
   ],
   "source": [
    "N = 5000\n",
    "\n",
    "random.seed(1)\n",
    "rand = [random.uniform(a,b) for i in range(N)]\n",
    "rand = np.array (rand)\n",
    "\n",
    "\n",
    "summation = 0.0\n",
    "start = time.time()\n",
    "\n",
    "for i in range (N):\n",
    "    plt.bar (rand[i], height = f(rand[i]), width=0.1, color=\"royalblue\")\n",
    "    summation += f(rand[i])\n",
    "mean = summation/N\n",
    "integral = (b-a)*mean\n",
    "\n",
    "\n",
    "#### print/plot results\n",
    "print (f\"N = {N}\")\n",
    "print (f\"Value of the integral: {integral:1.3f}\")\n",
    "\n",
    "ylim = 1.1*f(x).max()\n",
    "plt.plot (x, f(x), \"indigo\")\n",
    "plt.xlim ([x.min(), x.max()])\n",
    "plt.ylim ([0, ylim])\n",
    "plt.xlabel (\"x\",fontsize=12)\n",
    "plt.ylabel (\"f(x)\",fontsize=12)\n",
    "plt.title (f\"N = {N}\",fontsize=16)\n",
    "\n",
    "runtime(start)"
   ]
  },
  {
   "cell_type": "markdown",
   "metadata": {},
   "source": [
    "An integral of a function can be represented by the area under the function curve in the range of integration. From the above examples, it is shown that the randomly generated rectangular bars cover nearly all of the area under the curve in the range of $[0, \\pi]$ as $N$, increases. "
   ]
  },
  {
   "cell_type": "markdown",
   "metadata": {},
   "source": [
    "### Comparison to other numerical integration tools"
   ]
  },
  {
   "cell_type": "markdown",
   "metadata": {},
   "source": [
    "Comparison to other numerical integration techniques in Python (*scipy.integrate.quad* and *np.trapz*) are shown below."
   ]
  },
  {
   "cell_type": "code",
   "execution_count": 11,
   "metadata": {},
   "outputs": [
    {
     "name": "stdout",
     "output_type": "stream",
     "text": [
      "quad: 6.20875803571111\n",
      "absolute error: 4.0511694074940233e-10\n",
      "Runtime: 0.0010 s\n"
     ]
    }
   ],
   "source": [
    "# Comparison\n",
    "from scipy.integrate import quad\n",
    "\n",
    "startquad = time.time()\n",
    "a,b = 0,np.pi\n",
    "F_quad, err = quad (f, a, b)\n",
    "\n",
    "print (f\"quad: {F_quad}\")\n",
    "print (f\"absolute error: {err}\")\n",
    "runtime (startquad)"
   ]
  },
  {
   "cell_type": "markdown",
   "metadata": {},
   "source": [
    "Since it can be inferred from the absolute error that the *quad* integral is accurate to 9th decimal places. Thus, the *quad* solution can be considered as the actual solution unless the solution has to be more precise than 9th decimal places. The result from quad was then compared with solutions from other methods to calculate the errors."
   ]
  },
  {
   "cell_type": "code",
   "execution_count": 12,
   "metadata": {},
   "outputs": [
    {
     "name": "stdout",
     "output_type": "stream",
     "text": [
      "trapz: 6.2087579698874205\n",
      "Error relative to quad: 6.582368961005614e-08\n",
      "Runtime: 0.0018 s\n"
     ]
    }
   ],
   "source": [
    "starttrapz = time.time()\n",
    "X = np.linspace (a, b, N)\n",
    "\n",
    "F_trapz = np.trapz(f(X), X)\n",
    "err_trapz = np.abs (F_quad-F_trapz)\n",
    "\n",
    "print (f\"trapz: {F_trapz}\")\n",
    "print (f\"Error relative to quad: {err_trapz}\")\n",
    "runtime (starttrapz)"
   ]
  },
  {
   "cell_type": "code",
   "execution_count": 13,
   "metadata": {},
   "outputs": [
    {
     "name": "stdout",
     "output_type": "stream",
     "text": [
      "MC: 6.180852373461234\n",
      "Error relative to quad: 0.027906\n"
     ]
    }
   ],
   "source": [
    "err_mc = np.abs (F_quad-integral)\n",
    "\n",
    "print (f\"MC: {integral}\")\n",
    "print (f\"Error relative to quad: {err_mc:1.6f}\")\n",
    "# MC runtime was about 4.7s for 5000 samples."
   ]
  },
  {
   "cell_type": "markdown",
   "metadata": {},
   "source": [
    "To keep the runtime manageable, $N$ was kept to 5000 which leads to only a rough estimate of the objective integral. See the screenshot below for result when $N$ is increased to $100,000$.\n",
    "\n",
    "\n",
    "It is shown that the results are more accurate as $N$ is increased. However, because of its high computational cost and slow convergence with small number of random samples, Monte Carlo integration is only encouraged to use when other numerical techniques do not work very well. It is particularly useful over other numerical techniques when dealing with multidimensional and discontinuous functions as in the field of computer graphics."
   ]
  },
  {
   "cell_type": "markdown",
   "metadata": {},
   "source": [
    "![N=100,000](https://github.com/jhp980828/06625pj/blob/main/imgs/100000result.JPG?raw=True)"
   ]
  },
  {
   "cell_type": "markdown",
   "metadata": {},
   "source": [
    "# Buffon's Needle Problem"
   ]
  },
  {
   "cell_type": "markdown",
   "metadata": {},
   "source": [
    "When a needle is dropped onto a floor with equally spaced wooden strips, what is the probability that the needle lands exactly on the line between the two strips?\n",
    "\n",
    "![Buffon](https://github.com/jhp980828/06625pj/blob/main/imgs/Buffon.png?raw=True)"
   ]
  },
  {
   "cell_type": "markdown",
   "metadata": {},
   "source": [
    "In this problem, needle has a length $l,$ and the parallel lines created by two strips are separated by a distance $d$.\n",
    "\n",
    "$l$: needle length\n",
    "\n",
    "$d$: distance between two lines\n",
    "\n",
    "$\\theta$: angle between the needle and the parallel line.\n",
    "\n",
    "$\\theta=0$ means the needle is straight tip-down and parallel to the lines; $\\theta=\\pi$ means the needle's pin points directly upward."
   ]
  },
  {
   "cell_type": "markdown",
   "metadata": {},
   "source": [
    "The analytical solution for this problem can be calculated as shown below:\n",
    "\n",
    "**Let $x \\equiv \\frac{l}{d}$.**\n",
    "\n",
    "- **Case 1) Short needle:** $l \\leq d \\Rightarrow x \\leq 1$\n",
    "\n",
    "\\begin{equation}\n",
    "\\begin{split}\n",
    "P(x) & = \\int_{0}^{2\\pi} \\cfrac{l \\lvert \\mathrm{cos} \\theta \\rvert}{d} \\cfrac{1}{2\\pi} d\\theta \\\\\n",
    "& = \\cfrac{2 l}{\\pi d} \\\\\n",
    "& = \\cfrac{2x}{\\pi}\n",
    "\\end{split}\n",
    "\\end{equation}\n",
    "\n",
    "\n",
    "\n",
    "- **Case 2) Long needle:** $l > d \\Rightarrow x>1$\n",
    "\n",
    "Similarly, taking the above integral for $l>d$ case, the analytical solution for the second case was determined:\n",
    "\n",
    "\\begin{equation}\n",
    "\\begin{split}\n",
    "P(x) & = \\cfrac{2}{\\pi} \\left(x - \\sqrt{x^2-1} + \\mathrm{sec}^{-1}(x) \\right) \\\\\n",
    "& = \\cfrac{2}{\\pi} \\left(x - \\sqrt{x^2-1} + \\mathrm{cos}^{-1} \\left(\\frac{1}{x} \\right) \\right) \\\\\n",
    "\\end{split}\n",
    "\\end{equation}\n",
    "\n",
    "\n",
    "Detailed derivations are shown in <br>\n",
    "1) https://en.wikipedia.org/wiki/Buffon%27s_needle_problem#:~:text=Solution,-The%20problem%20in&text=dropped%20on%20a%20plane%20ruled,one%20of%20the%20parallel%20lines <br>\n",
    "2) https://mathworld.wolfram.com/BuffonsNeedleProblem.html\n",
    "\n",
    "The code below visualizes the problem statement for simple case where the needle length and floor spacing are both $1.0$ unit ($x=\\frac{1.0}{1.0}=1$)."
   ]
  },
  {
   "cell_type": "code",
   "execution_count": 14,
   "metadata": {},
   "outputs": [
    {
     "data": {
      "image/png": "[encoded data removed]",
      "text/plain": [
       "<Figure size 432x432 with 1 Axes>"
      ]
     },
     "metadata": {
      "needs_background": "light"
     },
     "output_type": "display_data"
    }
   ],
   "source": [
    "# simple case\n",
    "L = 1.0 # needle length\n",
    "d = 1 # floor spacing\n",
    "\n",
    "def plot_buffon (N, floor_size):\n",
    "    Xmax, Ymax = floor_size\n",
    "    \n",
    "    plt.figure (figsize=(6,6))\n",
    "\n",
    "    for i in range(N):\n",
    "\n",
    "        # random x,y inside the floor: center of the needle\n",
    "        x = Xmax*np.random.rand()\n",
    "        y = Ymax*np.random.rand()\n",
    "\n",
    "        # random angle between [0,2pi]: orientation of the needle\n",
    "        theta = 2*np.pi*np.random.rand()\n",
    "\n",
    "        # needle tips\n",
    "        x0 = x + (L/2)*np.cos(theta)\n",
    "        y0 = y + (L/2)*np.sin(theta)\n",
    "\n",
    "        x1 = x - (L/2)*np.cos(theta)\n",
    "        y1 = y - (L/2)*np.sin(theta)\n",
    "        \n",
    "        # touching criteria\n",
    "        if max(np.floor(y0),np.floor(y1))==min(np.ceil(y0),np.ceil(y1)):\n",
    "            # plot red needles if touching\n",
    "            plt.plot([x0,x1], [y0,y1], 'r', lw=2)\n",
    "            plt.plot(x, y,'ro')\n",
    "        else:\n",
    "            plt.plot([x0,x1], [y0,y1], lw=2)\n",
    "            plt.plot(x, y,'ko')\n",
    "\n",
    "    # plot parallel lines (floor strips)\n",
    "    strips = np.arange (0, Ymax+0.1, d)\n",
    "    for s in strips:\n",
    "        plt.plot ([0,Xmax], [s,s], \"grey\", lw=1)\n",
    "\n",
    "    plt.axis('square')\n",
    "    plt.xlim(0,Xmax)\n",
    "    plt.ylim(0,Ymax)\n",
    "    plt.yticks (strips)\n",
    "    plt.xticks (np.arange (0,Xmax+0.1,d))\n",
    "    plt.title (f\"Buffon's Needle (N={N})\", fontsize=16)\n",
    "\n",
    "    \n",
    "    \n",
    "##### define parameters\n",
    "floor_size = [10,10] # floor size\n",
    "N = 50 # number of trials\n",
    "\n",
    "plot_buffon (N, floor_size)    \n",
    "plt.show()"
   ]
  },
  {
   "cell_type": "markdown",
   "metadata": {},
   "source": [
    "For the same problem, $N$ is increased to $100,000$. The probability of needles hitting the strips was calculated and compared to the result using the analytical solution shown above."
   ]
  },
  {
   "cell_type": "code",
   "execution_count": 15,
   "metadata": {},
   "outputs": [
    {
     "name": "stdout",
     "output_type": "stream",
     "text": [
      "Runtime: 0.7092 s\n",
      "Probability: 0.6377\n",
      "Exact: 0.6366\n"
     ]
    }
   ],
   "source": [
    "#calculate probability\n",
    "N = 100000\n",
    "\n",
    "def needle_throw(floor_size):\n",
    "    Xmax, Ymax = floor_size\n",
    "    \n",
    "    # random x,y inside the floor: center of the needle\n",
    "    x = Xmax*np.random.rand()\n",
    "    y = Ymax*np.random.rand()\n",
    "\n",
    "    # random theta in [0,2pi]: orientation of the needle\n",
    "    theta = 2*np.pi*np.random.rand()\n",
    "\n",
    "    # needle tips\n",
    "    x0 = x + (L/2)*np.cos(theta)\n",
    "    y0 = y + (L/2)*np.sin(theta)\n",
    "\n",
    "    x1 = x - (L/2)*np.cos(theta)\n",
    "    y1 = y - (L/2)*np.sin(theta)\n",
    "    \n",
    "    # if needle hits the line, then it must intersect the boundary\n",
    "    if max(np.floor(y0),np.floor(y1))==min(np.ceil(y0),np.ceil(y1)):\n",
    "        return 1\n",
    "    else:\n",
    "        return 0\n",
    "    \n",
    "start = time.time ()\n",
    "l = 1\n",
    "d = 1\n",
    "floor = [10,10]\n",
    "probability = sum([needle_throw(floor) for i in range(N)])/N\n",
    "\n",
    "runtime (start)\n",
    "print(f\"Probability: {probability:1.4f}\")\n",
    "print(f\"Exact: {2*l/(np.pi*d):1.4f}\")\n"
   ]
  },
  {
   "cell_type": "markdown",
   "metadata": {},
   "source": [
    "The calculated probability closely approximates the analytical solution. Buffon's needle problem is often used as a common example in demonstrating Monte Carlo simulation. Different examples of Buffon's needle problem include estimating $\\pi$ by using the fact that $\\pi \\approx \\cfrac{P(x)}{2x}.$"
   ]
  },
  {
   "cell_type": "markdown",
   "metadata": {},
   "source": [
    "# Monte Carlo Error Propagation"
   ]
  },
  {
   "cell_type": "markdown",
   "metadata": {},
   "source": [
    "Uncertainties are inherent in engineering calculations and measurements because of the limited precision of measurements. For example, it would be difficult, if not impossible, to measure the length of a line in centimeters to its thousandth decimal places ($0.001$) when the ruler is precise only to the tenth decimal place ($0.1$). In such cases, rough guesses would have to be made for the hundredth decimal places, and one can only estimate up to the hundredth decimal places with uncertainties. Error propagation is an useful tool that allows trustworthy, precise parameter estimation."
   ]
  },
  {
   "cell_type": "markdown",
   "metadata": {},
   "source": [
    "### ex.) Density Estimation of a Solid\n",
    "\n",
    "Confidence interval of density can be estimated using Monte Carlo method. First, assume that the uncertainties in density follow normal distribution and are independent. Use the given dimensions of cylindrical solid with diameter $d$, thickness $x$, and mass $m$."
   ]
  },
  {
   "cell_type": "markdown",
   "metadata": {},
   "source": [
    "Useful information for confidence intervals:\n",
    "\n",
    "$\\bar{\\rho} \\pm Z \\cfrac{S}{\\sqrt{N}}$\n",
    "\n",
    "$\\bar{\\rho}$: sample mean of density\n",
    "\n",
    "$S$: sample standard deviation of density\n",
    "\n",
    "$N$: number of observations\n",
    "\n",
    "$Z$: $1.960$ for 95% confidence interval"
   ]
  },
  {
   "cell_type": "markdown",
   "metadata": {},
   "source": [
    "The exact size parameters $d,x,$ and $m$ are given below. Using these values, density can be calculated followed by the volume of the cylinder. The exact density is calculated as $\\approx 9.04 \\text{g/cm}^3$."
   ]
  },
  {
   "cell_type": "code",
   "execution_count": 16,
   "metadata": {},
   "outputs": [
    {
     "name": "stdout",
     "output_type": "stream",
     "text": [
      "density: 9.04 g/cm3\n"
     ]
    }
   ],
   "source": [
    "# actual values\n",
    "d = 1.6 # diameter in cm\n",
    "x = 1.1 # thickness in cm\n",
    "m = 20.0 # mass in g\n",
    "\n",
    "def volume(d,x):\n",
    "    V = np.pi*(d/2)**2*x # cylindrical geometry\n",
    "    return V\n",
    "\n",
    "V = volume (d,x)\n",
    "actual_density = m/V\n",
    "print (f\"density: {actual_density:1.2f} g/cm3\")"
   ]
  },
  {
   "cell_type": "markdown",
   "metadata": {},
   "source": [
    "Let say we make $N$ measurements to tenth decimal places on each of $d,x,$ and $m$ parameters. Errors following the normal distribution are added to the actual dimensions to express $N$ measurements with normal-distributed errors (See *d_rand, x_rand, m_rand*). Then $N$ densities are calculated for each measurement to get the probability distribution of density."
   ]
  },
  {
   "cell_type": "markdown",
   "metadata": {},
   "source": [
    "#### N=100"
   ]
  },
  {
   "cell_type": "code",
   "execution_count": 17,
   "metadata": {},
   "outputs": [
    {
     "name": "stdout",
     "output_type": "stream",
     "text": [
      "mean = 9.26, std = 1.59\n"
     ]
    }
   ],
   "source": [
    "# precisions to 0.1\n",
    "d_precision = 0.1\n",
    "x_precision = 0.1\n",
    "m_precision = 0.1\n",
    "\n",
    "N = 100\n",
    "\n",
    "np.random.seed (2)\n",
    "# error follows the normal dist\n",
    "d_rand = d + d_precision*np.random.normal (size=N)\n",
    "x_rand = x + x_precision*np.random.normal (size=N)\n",
    "m_rand = m + m_precision*np.random.normal (size=N)\n",
    "\n",
    "\n",
    "V_rand = volume (d_rand, x_rand) # volume\n",
    "rho_rand = m_rand/V_rand # density\n",
    "\n",
    "print (f\"mean = {rho_rand.mean():1.2f}, std = {rho_rand.std():1.2f}\")"
   ]
  },
  {
   "cell_type": "markdown",
   "metadata": {},
   "source": [
    "Because the precisions are only known to tenth decimals, mean $\\approx 9.26$ and std $\\approx 1.59$ where the last digits ($6$ and $9$) are estimated."
   ]
  },
  {
   "cell_type": "code",
   "execution_count": 18,
   "metadata": {},
   "outputs": [
    {
     "name": "stdout",
     "output_type": "stream",
     "text": [
      "CI for Density = 9.26 +/- 3.12 g/cm3\n"
     ]
    },
    {
     "data": {
      "image/png": "[encoded data removed]",
      "text/plain": [
       "<Figure size 432x288 with 1 Axes>"
      ]
     },
     "metadata": {
      "needs_background": "light"
     },
     "output_type": "display_data"
    }
   ],
   "source": [
    "Z = 1.960\n",
    "s = rho_rand.std()\n",
    "ci = Z*s\n",
    "expected_rho = rho_rand.mean()\n",
    "\n",
    "print (f\"CI for Density = {expected_rho:1.2f} +/- {ci:1.2f} g/cm3\")\n",
    "\n",
    "plt.hist (rho_rand, bins=10)\n",
    "plt.title (f\"Density Estimation (N={N})\")\n",
    "plt.xlabel (r\"Density ($g/cm^3$)\")\n",
    "plt.ylabel (\"Frequency\") ;"
   ]
  },
  {
   "cell_type": "markdown",
   "metadata": {},
   "source": [
    "When $N=100$, the confidence interval is very large, and not much information about density could be gained. Next, $N$ was increased to $300,000$."
   ]
  },
  {
   "cell_type": "markdown",
   "metadata": {},
   "source": [
    "#### N=300,000"
   ]
  },
  {
   "cell_type": "code",
   "execution_count": 19,
   "metadata": {},
   "outputs": [
    {
     "name": "stdout",
     "output_type": "stream",
     "text": [
      "Density = 9.22 +/- 2.86 g/cm3\n"
     ]
    },
    {
     "data": {
      "image/png": "[encoded data removed]",
      "text/plain": [
       "<Figure size 432x288 with 1 Axes>"
      ]
     },
     "metadata": {
      "needs_background": "light"
     },
     "output_type": "display_data"
    }
   ],
   "source": [
    "N = 300000\n",
    "\n",
    "# error follows the normal dist\n",
    "np.random.seed (1)\n",
    "d_rand = d + d_precision*np.random.normal (size=N)\n",
    "x_rand = x + x_precision*np.random.normal (size=N)\n",
    "m_rand = m + m_precision*np.random.normal (size=N)\n",
    "\n",
    "\n",
    "V_rand = volume (d_rand, x_rand) # volume\n",
    "rho_rand = m_rand/V_rand # density\n",
    "\n",
    "s = rho_rand.std()\n",
    "ci = Z*s\n",
    "expected_rho = rho_rand.mean()\n",
    "\n",
    "print (f\"Density = {expected_rho:1.2f} +/- {ci:1.2f} g/cm3\")\n",
    "\n",
    "plt.hist (rho_rand, bins=100)\n",
    "plt.title (f\"Density Estimation (N={N})\")\n",
    "plt.xlabel (r\"Density ($g/cm^3$)\")\n",
    "plt.ylabel (\"Frequency\") ;"
   ]
  },
  {
   "cell_type": "markdown",
   "metadata": {},
   "source": [
    "When $N$ is increased to $300,000$, the probability distribution of the density becomes much more informative. Although the distribution contains less variance, confidence interval has not been affected greatly. Knowing (measuring) the parameters to more precise level can significantly improve the interval. See the contents below for example."
   ]
  },
  {
   "cell_type": "markdown",
   "metadata": {},
   "source": [
    "#### Increasing the known precision"
   ]
  },
  {
   "cell_type": "markdown",
   "metadata": {},
   "source": [
    "Now let's assume $d$ and $x$ measurements are known to 2nd decimal places.\n",
    "\n",
    "Let $d_{new} = 1.61 \\mathrm{cm}$ and $x_{new} = 1.13 \\mathrm{cm}$.\n"
   ]
  },
  {
   "cell_type": "code",
   "execution_count": 20,
   "metadata": {},
   "outputs": [
    {
     "name": "stdout",
     "output_type": "stream",
     "text": [
      "actual density: 8.694 g/cm3\n"
     ]
    }
   ],
   "source": [
    "N = 300000\n",
    "\n",
    "d_new = 1.61 # diameter in cm\n",
    "x_new = 1.13 # thickness in cm\n",
    "m = 20.0 # mass in g\n",
    "\n",
    "actual_vol = volume (d_new,x_new)\n",
    "actual_rho = m/actual_vol\n",
    "\n",
    "print (f\"actual density: {actual_rho:1.3f} g/cm3\")"
   ]
  },
  {
   "cell_type": "code",
   "execution_count": 21,
   "metadata": {},
   "outputs": [
    {
     "name": "stdout",
     "output_type": "stream",
     "text": [
      "Actual density: 8.694\n",
      "CI of density = 8.695 +/- 0.273 g/cm3\n"
     ]
    },
    {
     "data": {
      "image/png": "[encoded data removed]",
      "text/plain": [
       "<Figure size 432x288 with 1 Axes>"
      ]
     },
     "metadata": {
      "needs_background": "light"
     },
     "output_type": "display_data"
    }
   ],
   "source": [
    "# NEW precisions\n",
    "d_precision = 0.01\n",
    "x_precision = 0.01\n",
    "m_precision = 0.1 # stays the same\n",
    "\n",
    "# Measurements\n",
    "np.random.seed (1)\n",
    "d_rand = d_new + d_precision*np.random.normal (size=N)\n",
    "x_rand = x_new + x_precision*np.random.normal (size=N)\n",
    "m_rand = m + m_precision*np.random.normal (size=N)\n",
    "\n",
    "V_rand = volume (d_rand, x_rand)\n",
    "rho_rand = m_rand/V_rand\n",
    "\n",
    "s = rho_rand.std()\n",
    "ci = Z*s\n",
    "expected_rho = rho_rand.mean()\n",
    "\n",
    "\n",
    "print (f\"Actual density: {actual_rho:1.3f}\")\n",
    "print (f\"CI of density = {expected_rho:1.3f} +/- {ci:1.3f} g/cm3\")\n",
    "\n",
    "plt.hist (rho_rand, bins=100, color=\"orange\")\n",
    "plt.title (f\"Density Estimation (N={N})\")\n",
    "plt.xlabel (r\"Density ($g/cm^3$)\")\n",
    "plt.ylabel (\"Frequency\") ;"
   ]
  },
  {
   "cell_type": "markdown",
   "metadata": {},
   "source": [
    "By knowing the measurements to a better precision, the CI interval of densities was significantly reduced which means density with random errors are fluctuating less. Compare the marks on the $x$-axis of the plot above to those of previous plot (Screenshot). While the density in the  previous plot ranges from about $5$ to $15$, the density only ranged from about $8.2$ to $9.2$ when the precision of measurements was increased.\n",
    "\n",
    "![increased_precisions](https://github.com/jhp980828/06625pj/blob/main/imgs/density_estim.png?raw=True)"
   ]
  },
  {
   "cell_type": "markdown",
   "metadata": {},
   "source": [
    "# Summary\n",
    "\n",
    "- Monte Carlo method uses Law of Large Numbers and random samples to simulate and model mathematical processes with randomness.\n",
    "- Examples: dice throw, numerical integration, Buffon's needle, and error propagation using MC method\n",
    "- It is easy and generalizable for many cases, but computationally expensive due to large number of random simulations.\n",
    "- It is useful for stochastic modeling in fields like finance and climate science.\n",
    "\n",
    "\n",
    "\n",
    "\n",
    "\n",
    "\n"
   ]
  },
  {
   "cell_type": "markdown",
   "metadata": {},
   "source": [
    "# References\n",
    "\n",
    "**1.** E. Veach, 1997, \"Robust Monte Carlo Methods for Light Transport Simulation, Ch.2: Monte Carlo Integration.\" Stanford University, PhD Dissertation.\n",
    "https://www.ime.usp.br/~jmstern/wp-content/uploads/2020/04/EricVeach2.pdf\n",
    "\n",
    "\n",
    "**2.** E. W. Weisstein, \"Buffon's Needle Problem.\" From MathWorld--A Wolfram Web Resource. https://mathworld.wolfram.com/BuffonsNeedleProblem.html\n",
    "\n",
    "\n",
    "**3.** Wikipedia contributors. (2022, June 28). Buffon's needle problem. In Wikipedia, The Free Encyclopedia. Retrieved from https://en.wikipedia.org/w/index.php?title=Buffon%27s_needle_problem&oldid=1095469404\n",
    "\n",
    "\n",
    "**4.** B. Toggerson, A. Philbin, \"Physics 132 Lab Manual, Subtitle:Understanding Data.\" University of Massachusetts, Amherst. https://openbooks.library.umass.edu/p132-lab-manual/chapter/monte-carlo-error-propagation/"
   ]
  },
  {
   "cell_type": "code",
   "execution_count": 22,
   "metadata": {},
   "outputs": [
    {
     "ename": "ModuleNotFoundError",
     "evalue": "No module named 'f22_06623'",
     "output_type": "error",
     "traceback": [
      "\u001b[1;31m---------------------------------------------------------------------------\u001b[0m",
      "\u001b[1;31mModuleNotFoundError\u001b[0m                       Traceback (most recent call last)",
      "\u001b[1;32m~\\AppData\\Local\\Temp/ipykernel_8260/1633633371.py\u001b[0m in \u001b[0;36m<module>\u001b[1;34m\u001b[0m\n\u001b[0;32m      2\u001b[0m \u001b[1;31m# Click the generated links to preview and download it.\u001b[0m\u001b[1;33m\u001b[0m\u001b[1;33m\u001b[0m\u001b[0m\n\u001b[0;32m      3\u001b[0m \u001b[1;31m# Report errors to Professor Kitchin\u001b[0m\u001b[1;33m\u001b[0m\u001b[1;33m\u001b[0m\u001b[0m\n\u001b[1;32m----> 4\u001b[1;33m \u001b[1;32mfrom\u001b[0m \u001b[0mf22_06623\u001b[0m \u001b[1;32mimport\u001b[0m \u001b[0mpdf\u001b[0m\u001b[1;33m\u001b[0m\u001b[1;33m\u001b[0m\u001b[0m\n\u001b[0m\u001b[0;32m      5\u001b[0m \u001b[0mget_ipython\u001b[0m\u001b[1;33m(\u001b[0m\u001b[1;33m)\u001b[0m\u001b[1;33m.\u001b[0m\u001b[0mrun_line_magic\u001b[0m\u001b[1;33m(\u001b[0m\u001b[1;34m'pdf'\u001b[0m\u001b[1;33m,\u001b[0m \u001b[1;34m''\u001b[0m\u001b[1;33m)\u001b[0m\u001b[1;33m\u001b[0m\u001b[1;33m\u001b[0m\u001b[0m\n\u001b[0;32m      6\u001b[0m \u001b[1;33m\u001b[0m\u001b[0m\n",
      "\u001b[1;31mModuleNotFoundError\u001b[0m: No module named 'f22_06623'"
     ]
    }
   ],
   "source": [
    "# Run this cell to generate a pdf from this notebook\n",
    "# Click the generated links to preview and download it.\n",
    "# Report errors to Professor Kitchin\n",
    "from f22_06623 import pdf\n",
    "%pdf\n",
    "\n"
   ]
  }
 ],
 "metadata": {
  "kernelspec": {
   "display_name": "Python 3 (ipykernel)",
   "language": "python",
   "name": "python3"
  },
  "language_info": {
   "codemirror_mode": {
    "name": "ipython",
    "version": 3
   },
   "file_extension": ".py",
   "mimetype": "text/x-python",
   "name": "python",
   "nbconvert_exporter": "python",
   "pygments_lexer": "ipython3",
   "version": "3.9.7"
  },
  "org": null,
  "widgets": {
   "application/vnd.jupyter.widget-state+json": {
    "state": {},
    "version_major": 2,
    "version_minor": 0
   }
  }
 },
 "nbformat": 4,
 "nbformat_minor": 4
}
